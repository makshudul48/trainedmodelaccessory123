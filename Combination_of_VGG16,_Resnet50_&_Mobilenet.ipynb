{
  "cells": [
    {
      "cell_type": "code",
      "execution_count": null,
      "metadata": {
        "colab": {
          "base_uri": "https://localhost:8080/"
        },
        "id": "fe_Y1kfT50yo",
        "outputId": "fe4c413e-f22a-4963-8c30-87c28c5df86f"
      },
      "outputs": [
        {
          "output_type": "stream",
          "name": "stdout",
          "text": [
            "Mounted at /content/drive\n"
          ]
        }
      ],
      "source": [
        "from google.colab import drive\n",
        "drive.mount('/content/drive')"
      ]
    },
    {
      "cell_type": "markdown",
      "source": [
        "# **Splitting**"
      ],
      "metadata": {
        "id": "qhsDXhEc_quF"
      }
    },
    {
      "cell_type": "code",
      "execution_count": null,
      "metadata": {
        "colab": {
          "base_uri": "https://localhost:8080/"
        },
        "id": "q3Rz4Ux_BXZM",
        "outputId": "e0461448-5947-44d1-cf9f-382ae01fb691"
      },
      "outputs": [
        {
          "name": "stdout",
          "output_type": "stream",
          "text": [
            "Looking in indexes: https://pypi.org/simple, https://us-python.pkg.dev/colab-wheels/public/simple/\n",
            "Requirement already satisfied: split-folders[full] in /usr/local/lib/python3.8/dist-packages (0.5.1)\n",
            "Requirement already satisfied: tqdm in /usr/local/lib/python3.8/dist-packages (from split-folders[full]) (4.64.1)\n"
          ]
        }
      ],
      "source": [
        "pip install split-folders[full]"
      ]
    },
    {
      "cell_type": "code",
      "execution_count": null,
      "metadata": {
        "colab": {
          "base_uri": "https://localhost:8080/"
        },
        "id": "HLHLPn1HRflN",
        "outputId": "b7fe4dce-d606-461b-a5a7-f33962ae20e9"
      },
      "outputs": [
        {
          "name": "stdout",
          "output_type": "stream",
          "text": [
            "Looking in indexes: https://pypi.org/simple, https://us-python.pkg.dev/colab-wheels/public/simple/\n",
            "Requirement already satisfied: split-folders in /usr/local/lib/python3.8/dist-packages (0.5.1)\n"
          ]
        },
        {
          "name": "stderr",
          "output_type": "stream",
          "text": [
            "Copying files: 1466 files [03:42,  6.60 files/s]\n"
          ]
        }
      ],
      "source": [
        "!pip install split-folders\n",
        "import splitfolders # or import splitfolders\n",
        "input_folder = \"/content/drive/MyDrive/Thesis Raw Dataset/Fruit\"\n",
        "output = \"/content/drive/MyDrive/Grocery/Fruit\" #where you want the split datasets saved. one will be created if it does not exist or none is set\n",
        "\n",
        "splitfolders.ratio(input_folder, output=output, seed=42, ratio=(.8, .1, .1))"
      ]
    },
    {
      "cell_type": "code",
      "execution_count": null,
      "metadata": {
        "colab": {
          "base_uri": "https://localhost:8080/"
        },
        "id": "147QJKcNbRBQ",
        "outputId": "601847b4-6118-4b7b-c582-c414f647eb60"
      },
      "outputs": [
        {
          "name": "stderr",
          "output_type": "stream",
          "text": [
            "Copying files: 1120 files [02:03,  9.06 files/s]\n"
          ]
        }
      ],
      "source": [
        "import splitfolders # or import splitfolders\n",
        "input_folder = \"/content/drive/MyDrive/Thesis Raw Dataset/Packages\"\n",
        "output = \"/content/drive/MyDrive/Grocery/Packages\" #where you want the split datasets saved. one will be created if it does not exist or none is set\n",
        "\n",
        "splitfolders.ratio(input_folder, output=output, seed=42, ratio=(.8, .1, .1))"
      ]
    },
    {
      "cell_type": "code",
      "execution_count": null,
      "metadata": {
        "colab": {
          "base_uri": "https://localhost:8080/"
        },
        "id": "pbE1L0ofcE93",
        "outputId": "b18d1b2d-91e9-401c-896b-355cd0986678"
      },
      "outputs": [
        {
          "name": "stderr",
          "output_type": "stream",
          "text": [
            "Copying files: 589 files [01:43,  5.67 files/s]\n"
          ]
        }
      ],
      "source": [
        "import splitfolders # or import splitfolders\n",
        "input_folder = \"/content/drive/MyDrive/Thesis Raw Dataset/Vegetables\"\n",
        "output = \"/content/drive/MyDrive/Grocery/Vegetables\" #where you want the split datasets saved. one will be created if it does not exist or none is set\n",
        "\n",
        "splitfolders.ratio(input_folder, output=output, seed=42, ratio=(.8, .1, .1))"
      ]
    },
    {
      "cell_type": "markdown",
      "metadata": {
        "id": "MqFloF_z_ns5"
      },
      "source": [
        "# **Importing**"
      ]
    },
    {
      "cell_type": "code",
      "execution_count": null,
      "metadata": {
        "id": "kQD0zCIiSVvs"
      },
      "outputs": [],
      "source": [
        "from keras.layers import Input, Lambda, Dense, Flatten\n",
        "from keras.models import Model\n",
        "from keras.applications.vgg16 import VGG16\n",
        "from keras.applications.vgg16 import preprocess_input\n",
        "from keras.preprocessing import image\n",
        "from keras.preprocessing.image import ImageDataGenerator\n",
        "from tensorflow.keras.wrappers.scikit_learn import KerasClassifier\n",
        "from keras.models import Sequential\n",
        "import numpy as np\n",
        "from glob import glob\n",
        "import matplotlib.pyplot as plt\n",
        "\n",
        "\n",
        "\n",
        "import tensorflow as tf\n",
        "from tensorflow import keras\n",
        "from tensorflow.keras.applications.mobilenet_v2 import MobileNetV2, preprocess_input\n",
        "from tensorflow.keras.preprocessing.image import ImageDataGenerator\n",
        "from tensorflow.keras.preprocessing import image\n",
        "from tensorflow.keras.models import Sequential, Model\n",
        "from tensorflow.keras.layers import GlobalAveragePooling2D, Dense, BatchNormalization, Dropout\n",
        "from tensorflow.keras.optimizers import Adam\n",
        "from tensorflow.keras.optimizers import *\n",
        "from tensorflow.keras.initializers import *\n",
        "import random\n",
        "import matplotlib.image as mpimg\n",
        "%matplotlib inline\n",
        "\n",
        "\n",
        "from keras.preprocessing.image import ImageDataGenerator\n",
        "import keras\n",
        "from keras.models import Sequential\n",
        "from keras.layers import Input, Dense\n",
        "from keras.applications import ResNet50\n",
        "from tensorflow.keras.applications.resnet50 import ResNet50\n",
        "\n",
        "\n",
        "import warnings\n",
        "warnings.filterwarnings(\"ignore\", category=FutureWarning)\n"
      ]
    },
    {
      "cell_type": "markdown",
      "metadata": {
        "id": "mhte63gqbRDJ"
      },
      "source": [
        "# **MobileNET**"
      ]
    },
    {
      "cell_type": "code",
      "execution_count": null,
      "metadata": {
        "colab": {
          "base_uri": "https://localhost:8080/"
        },
        "id": "ZGpZ0ykbbTmL",
        "outputId": "d54236fe-8a9e-44a8-b3ad-a9f1c2ae247d"
      },
      "outputs": [
        {
          "output_type": "stream",
          "name": "stdout",
          "text": [
            "Found 2509 images belonging to 3 classes.\n",
            "Found 297 images belonging to 3 classes.\n",
            "Found 356 images belonging to 3 classes.\n"
          ]
        }
      ],
      "source": [
        "im_shape = (224,224)\n",
        "seed = random.randint(1, 1000)\n",
        "\n",
        "BATCH_SIZE = 32\n",
        "num_classes = 3\n",
        "\n",
        "learning_rate = 0.0001\n",
        "\n",
        "datagenmobile = ImageDataGenerator(preprocessing_function=preprocess_input) #rescale=1./255,\n",
        "\n",
        "traingenmobile = datagenmobile.flow_from_directory(train_path, target_size=(im_shape[0],im_shape[1]), shuffle=True, seed=seed,\n",
        "                                                     class_mode='categorical', batch_size=BATCH_SIZE, subset=\"training\")#, color_mode='grayscale')\n",
        "\n",
        "val_generatormobile = ImageDataGenerator(preprocessing_function=preprocess_input)\n",
        "valgenmobile = val_generatormobile.flow_from_directory(validation, target_size=(im_shape[0],im_shape[1]), shuffle=False, seed=seed,\n",
        "                                                     class_mode='categorical', batch_size=BATCH_SIZE)#, color_mode='grayscale')\n",
        "nb_train_samples = traingenmobile.samples\n",
        "nb_validation_samples = valgenmobile.samples\n",
        "\n",
        "\n",
        "\n",
        "\n",
        "test_generatormobile = ImageDataGenerator(preprocessing_function=preprocess_input)#rescale=1./255\n",
        "\n",
        "testgenmobile = test_generatormobile.flow_from_directory(test_path, target_size=(im_shape[0],im_shape[1]), shuffle=False, seed=seed,\n",
        "                                                     class_mode='categorical', batch_size=BATCH_SIZE, subset=\"training\")#, color_mode='grayscale')\n",
        "nb_test_samples = testgenmobile.samples\n",
        "\n",
        "\n",
        "\n"
      ]
    },
    {
      "cell_type": "code",
      "execution_count": null,
      "metadata": {
        "colab": {
          "base_uri": "https://localhost:8080/"
        },
        "id": "izS_utc9dFhx",
        "outputId": "71cd5439-2f79-4e5d-a72e-95f604c00644"
      },
      "outputs": [
        {
          "output_type": "stream",
          "name": "stdout",
          "text": [
            "Downloading data from https://storage.googleapis.com/tensorflow/keras-applications/mobilenet_v2/mobilenet_v2_weights_tf_dim_ordering_tf_kernels_1.0_224_no_top.h5\n",
            "9406464/9406464 [==============================] - 0s 0us/step\n"
          ]
        },
        {
          "output_type": "stream",
          "name": "stderr",
          "text": [
            "WARNING:absl:`lr` is deprecated, please use `learning_rate` instead, or use the legacy optimizer, e.g.,tf.keras.optimizers.legacy.Adam.\n"
          ]
        }
      ],
      "source": [
        "# Loading MobileNet without top layer\n",
        "base_model = MobileNetV2(include_top=False, weights='imagenet', input_shape=(im_shape[0], im_shape[1], 3))\n",
        "\n",
        "x = base_model.output\n",
        "x = GlobalAveragePooling2D()(x)\n",
        "x = Dropout(rate = .4)(x)\n",
        "x = BatchNormalization()(x)\n",
        "x = Dense(1280, activation='relu',  kernel_initializer=glorot_uniform(seed))(x)\n",
        "x = Dropout(rate = .4)(x)\n",
        "x = BatchNormalization()(x)\n",
        "predictions = Dense(num_classes, activation='softmax', kernel_initializer='random_uniform')(x)\n",
        "\n",
        "model_mobile = Model(inputs=base_model.input, outputs=predictions)\n",
        "\n",
        "# Freezing MobileNet layers\n",
        "for layer in base_model.layers:\n",
        "    layer.trainable=False\n",
        "\n",
        "optimizer = Adam(lr=learning_rate)\n",
        "\n",
        "model_mobile.compile(optimizer='Adam',loss='categorical_crossentropy',metrics=['accuracy'])"
      ]
    },
    {
      "cell_type": "code",
      "execution_count": null,
      "metadata": {
        "colab": {
          "base_uri": "https://localhost:8080/"
        },
        "id": "-ZCncJd-daDh",
        "outputId": "52c6ae50-ab3e-4999-da91-ffb04424af65"
      },
      "outputs": [
        {
          "output_type": "execute_result",
          "data": {
            "text/plain": [
              "{0: 0.7184994272623139, 1: 0.9471498678746697, 2: 1.8102453102453102}"
            ]
          },
          "metadata": {},
          "execution_count": 16
        }
      ],
      "source": [
        "from sklearn.utils import class_weight\n",
        "class_weights = class_weight.compute_class_weight(\n",
        "                                        class_weight = \"balanced\",\n",
        "                                        classes = np.unique(traingenmobile.classes),\n",
        "                                        y = traingenmobile.classes\n",
        "                                    )\n",
        "class_weights = dict(zip(np.unique(traingenmobile.classes), class_weights))\n",
        "class_weights"
      ]
    },
    {
      "cell_type": "code",
      "execution_count": null,
      "metadata": {
        "colab": {
          "base_uri": "https://localhost:8080/"
        },
        "id": "1zON5DrLdjlA",
        "outputId": "df509b49-0b2a-4676-9fba-f88b5be9b258"
      },
      "outputs": [
        {
          "name": "stdout",
          "output_type": "stream",
          "text": [
            "Epoch 1/10\n",
            "78/78 [==============================] - ETA: 0s - loss: 0.0212 - accuracy: 0.9927\n",
            "Epoch 1: val_loss improved from inf to 0.01298, saving model to model_mobile.h5\n",
            "78/78 [==============================] - 137s 2s/step - loss: 0.0212 - accuracy: 0.9927 - val_loss: 0.0130 - val_accuracy: 0.9931\n",
            "Epoch 2/10\n",
            "78/78 [==============================] - ETA: 0s - loss: 0.0242 - accuracy: 0.9903\n",
            "Epoch 2: val_loss improved from 0.01298 to 0.00611, saving model to model_mobile.h5\n",
            "78/78 [==============================] - 137s 2s/step - loss: 0.0242 - accuracy: 0.9903 - val_loss: 0.0061 - val_accuracy: 0.9965\n",
            "Epoch 3/10\n",
            "78/78 [==============================] - ETA: 0s - loss: 0.0176 - accuracy: 0.9927\n",
            "Epoch 3: val_loss improved from 0.00611 to 0.00203, saving model to model_mobile.h5\n",
            "78/78 [==============================] - 134s 2s/step - loss: 0.0176 - accuracy: 0.9927 - val_loss: 0.0020 - val_accuracy: 1.0000\n",
            "Epoch 4/10\n",
            "78/78 [==============================] - ETA: 0s - loss: 0.0208 - accuracy: 0.9931\n",
            "Epoch 4: val_loss did not improve from 0.00203\n",
            "78/78 [==============================] - 136s 2s/step - loss: 0.0208 - accuracy: 0.9931 - val_loss: 0.0027 - val_accuracy: 1.0000\n",
            "Epoch 5/10\n",
            "78/78 [==============================] - ETA: 0s - loss: 0.0206 - accuracy: 0.9939\n",
            "Epoch 5: val_loss improved from 0.00203 to 0.00141, saving model to model_mobile.h5\n",
            "78/78 [==============================] - 136s 2s/step - loss: 0.0206 - accuracy: 0.9939 - val_loss: 0.0014 - val_accuracy: 1.0000\n",
            "Epoch 6/10\n",
            "78/78 [==============================] - ETA: 0s - loss: 0.0193 - accuracy: 0.9939\n",
            "Epoch 6: val_loss did not improve from 0.00141\n",
            "78/78 [==============================] - 134s 2s/step - loss: 0.0193 - accuracy: 0.9939 - val_loss: 0.0027 - val_accuracy: 1.0000\n",
            "Epoch 7/10\n",
            "78/78 [==============================] - ETA: 0s - loss: 0.0240 - accuracy: 0.9931\n",
            "Epoch 7: val_loss improved from 0.00141 to 0.00095, saving model to model_mobile.h5\n",
            "78/78 [==============================] - 134s 2s/step - loss: 0.0240 - accuracy: 0.9931 - val_loss: 9.5116e-04 - val_accuracy: 1.0000\n",
            "Epoch 8/10\n",
            "78/78 [==============================] - ETA: 0s - loss: 0.0242 - accuracy: 0.9923\n",
            "Epoch 8: val_loss did not improve from 0.00095\n",
            "78/78 [==============================] - 133s 2s/step - loss: 0.0242 - accuracy: 0.9923 - val_loss: 0.0013 - val_accuracy: 1.0000\n",
            "Epoch 9/10\n",
            "78/78 [==============================] - ETA: 0s - loss: 0.0108 - accuracy: 0.9964\n",
            "Epoch 9: val_loss did not improve from 0.00095\n",
            "78/78 [==============================] - 134s 2s/step - loss: 0.0108 - accuracy: 0.9964 - val_loss: 0.0059 - val_accuracy: 1.0000\n",
            "Epoch 10/10\n",
            "78/78 [==============================] - ETA: 0s - loss: 0.0109 - accuracy: 0.9960\n",
            "Epoch 10: val_loss did not improve from 0.00095\n",
            "78/78 [==============================] - 134s 2s/step - loss: 0.0109 - accuracy: 0.9960 - val_loss: 0.0016 - val_accuracy: 1.0000\n"
          ]
        }
      ],
      "source": [
        "epochs = 10\n",
        "\n",
        "#Save the best model acoording to validation loss\n",
        "callbacks_list = [\n",
        "    keras.callbacks.ModelCheckpoint(\n",
        "        filepath='model_mobile.h5',\n",
        "        monitor='val_loss', save_best_only=True, verbose=1),\n",
        "    keras.callbacks.EarlyStopping(monitor='val_loss', patience=50,verbose=1)\n",
        "]\n",
        "\n",
        "fit_history_mobile = model_mobile.fit(\n",
        "        traingenmobile,\n",
        "        steps_per_epoch=nb_train_samples // BATCH_SIZE,\n",
        "        epochs=epochs,\n",
        "        callbacks = callbacks_list,\n",
        "        validation_data=valgenmobile,\n",
        "        verbose = 1,\n",
        "        validation_steps=nb_validation_samples // BATCH_SIZE,\n",
        "        class_weight = class_weights)"
      ]
    },
    {
      "cell_type": "code",
      "execution_count": null,
      "metadata": {
        "colab": {
          "base_uri": "https://localhost:8080/"
        },
        "id": "Torp1n1KzHkd",
        "outputId": "a74bf142-bfd7-4ed4-a2fc-4a62afaf2040"
      },
      "outputs": [
        {
          "name": "stderr",
          "output_type": "stream",
          "text": [
            "WARNING:absl:Found untraced functions such as _jit_compiled_convolution_op, _jit_compiled_convolution_op, _jit_compiled_convolution_op, _jit_compiled_convolution_op, _jit_compiled_convolution_op while saving (showing 5 of 52). These functions will not be directly callable after loading.\n"
          ]
        }
      ],
      "source": [
        "model_mobile.save('/content/drive/MyDrive/Grocery/Models/model_mobile')\n"
      ]
    },
    {
      "cell_type": "code",
      "execution_count": null,
      "metadata": {
        "colab": {
          "base_uri": "https://localhost:8080/"
        },
        "id": "_Nrso5b_I6iQ",
        "outputId": "444f0720-32bb-4c84-e6a1-2906a853ea6b"
      },
      "outputs": [
        {
          "output_type": "stream",
          "name": "stderr",
          "text": [
            "<ipython-input-17-eaf650e4e735>:5: UserWarning: `Model.evaluate_generator` is deprecated and will be removed in a future version. Please use `Model.evaluate`, which supports generators.\n",
            "  score_mobile= trained_model_mobile.evaluate_generator(testgenmobile, steps=steps_per_epoch_test_res50)\n"
          ]
        },
        {
          "output_type": "stream",
          "name": "stdout",
          "text": [
            "Accuracy of MobileNET: 98.4375% \n",
            " Error: 1.5625\n"
          ]
        }
      ],
      "source": [
        "steps_per_epoch_test_mobile = math.ceil(len(testgenmobile)/ 10)\n",
        "\n",
        "from keras.models import load_model\n",
        "trained_model_mobile = load_model('/content/drive/MyDrive/Grocery/Models/model_mobile')\n",
        "score_mobile= trained_model_mobile.evaluate_generator(testgenmobile, steps=steps_per_epoch_test_res50)\n",
        "print('Accuracy of MobileNET: {}% \\n Error: {}'.format((score_mobile[1]*100), (1 - score_mobile[1])*100))"
      ]
    },
    {
      "cell_type": "code",
      "source": [
        "from sklearn.metrics import classification_report\n",
        "\n",
        "Y_pred = trained_model_mobile.predict_generator(testgenmobile, nb_test_samples // BATCH_SIZE+1)\n",
        "y_pred = np.argmax(Y_pred, axis=1)\n",
        "\n",
        "print('Classification Report')\n",
        "target_names = ['Fruit', 'Packages', 'Vegetables']\n",
        "print(classification_report(testgenmobile.classes, y_pred, target_names=target_names))"
      ],
      "metadata": {
        "colab": {
          "base_uri": "https://localhost:8080/"
        },
        "id": "Pjwcmo4--9kS",
        "outputId": "801fbbc7-fd46-4c27-c7be-d9c8831f71a5"
      },
      "execution_count": null,
      "outputs": [
        {
          "output_type": "stream",
          "name": "stderr",
          "text": [
            "<ipython-input-18-be309df045e8>:3: UserWarning: `Model.predict_generator` is deprecated and will be removed in a future version. Please use `Model.predict`, which supports generators.\n",
            "  Y_pred = trained_model_mobile.predict_generator(testgenmobile, nb_test_samples // BATCH_SIZE+1)\n"
          ]
        },
        {
          "output_type": "stream",
          "name": "stdout",
          "text": [
            "Classification Report\n",
            "              precision    recall  f1-score   support\n",
            "\n",
            "       Fruit       0.99      0.98      0.98       163\n",
            "    Packages       0.99      1.00      1.00       121\n",
            "  Vegetables       0.96      0.96      0.96        72\n",
            "\n",
            "    accuracy                           0.98       356\n",
            "   macro avg       0.98      0.98      0.98       356\n",
            "weighted avg       0.98      0.98      0.98       356\n",
            "\n"
          ]
        }
      ]
    },
    {
      "cell_type": "code",
      "execution_count": null,
      "metadata": {
        "colab": {
          "base_uri": "https://localhost:8080/",
          "height": 295
        },
        "id": "rXXJ9XbSd_tR",
        "outputId": "680ca356-885c-4105-c1d8-cb6947608010"
      },
      "outputs": [
        {
          "data": {
            "image/png": "[encoded data removed]",
            "text/plain": [
              "<Figure size 432x288 with 1 Axes>"
            ]
          },
          "metadata": {},
          "output_type": "display_data"
        }
      ],
      "source": [
        "# Plot training & validation loss values\n",
        "plt.plot(fit_history_mobile.history['accuracy'])\n",
        "plt.plot(fit_history_mobile.history['val_accuracy'])\n",
        "plt.title('MobileNet Model accuracy values')\n",
        "plt.ylabel('Accuracy')\n",
        "plt.xlabel('Epoch')\n",
        "plt.legend(['Train', 'Test'], loc='upper left')\n",
        "plt.show()"
      ]
    },
    {
      "cell_type": "markdown",
      "metadata": {
        "id": "Vx1Glto4TPuE"
      },
      "source": [
        "# **VGG16**"
      ]
    },
    {
      "cell_type": "code",
      "execution_count": null,
      "metadata": {
        "colab": {
          "base_uri": "https://localhost:8080/"
        },
        "id": "OR1iqvS8TIn5",
        "outputId": "e5d86e03-e095-42f1-fab7-158e7e5f2637"
      },
      "outputs": [
        {
          "output_type": "stream",
          "name": "stdout",
          "text": [
            "Found 2509 images belonging to 3 classes.\n",
            "Found 356 images belonging to 3 classes.\n",
            "Found 297 images belonging to 3 classes.\n"
          ]
        }
      ],
      "source": [
        "IMAGE_SIZE = [224, 224]\n",
        "num_classes_vgg16 = 3\n",
        "image_resize = 224\n",
        "batch_size_training = 10\n",
        "batch_size_validation = 10\n",
        "\n",
        "test_path='/content/drive/MyDrive/Grocery/test'\n",
        "\n",
        "\n",
        "train_path='/content/drive/MyDrive/Grocery/train'\n",
        "\n",
        "validation = '/content/drive/MyDrive/Grocery/validation'\n",
        "\n",
        "\n",
        "datagenvgg = ImageDataGenerator(\n",
        "    preprocessing_function=tf.keras.applications.vgg16.preprocess_input\n",
        ")\n",
        "\n",
        "traingenvgg = datagenvgg.flow_from_directory(\n",
        "    train_path,\n",
        "    target_size=(image_resize, image_resize),\n",
        "    batch_size=batch_size_training,\n",
        "    class_mode='categorical')\n",
        "\n",
        "testgenvgg= datagenvgg.flow_from_directory(\n",
        "    test_path,\n",
        "    target_size=(image_resize, image_resize),\n",
        "    shuffle=False)\n",
        "\n",
        "valgenvgg= datagenvgg.flow_from_directory(\n",
        "    validation,\n",
        "    target_size=(image_resize, image_resize),\n",
        "    batch_size=batch_size_validation,\n",
        "    class_mode='categorical')\n",
        "\n"
      ]
    },
    {
      "cell_type": "code",
      "execution_count": null,
      "metadata": {
        "colab": {
          "base_uri": "https://localhost:8080/"
        },
        "id": "R-3vuv4tUJ8i",
        "outputId": "28aa3942-42d0-4c8f-d847-c46a4aeed89e"
      },
      "outputs": [
        {
          "output_type": "stream",
          "name": "stdout",
          "text": [
            "Downloading data from https://storage.googleapis.com/tensorflow/keras-applications/vgg16/vgg16_weights_tf_dim_ordering_tf_kernels_notop.h5\n",
            "58889256/58889256 [==============================] - 1s 0us/step\n"
          ]
        },
        {
          "output_type": "execute_result",
          "data": {
            "text/plain": [
              "[<keras.engine.functional.Functional at 0x7f4d78efed60>,\n",
              " <keras.layers.core.dense.Dense at 0x7f4d7a1b1700>]"
            ]
          },
          "metadata": {},
          "execution_count": 5
        }
      ],
      "source": [
        "modelvgg = Sequential()\n",
        "modelvgg.add(VGG16(\n",
        "    include_top=False,\n",
        "    pooling='avg',\n",
        "    weights='imagenet',\n",
        "    ))\n",
        "\n",
        "modelvgg.add(Dense(num_classes_vgg16, activation='softmax'))\n",
        "modelvgg.layers"
      ]
    },
    {
      "cell_type": "code",
      "execution_count": null,
      "metadata": {
        "colab": {
          "base_uri": "https://localhost:8080/"
        },
        "id": "Ca5-MK1KUVmv",
        "outputId": "70d3a134-a9e4-4bb5-c8db-c65c74e593a4"
      },
      "outputs": [
        {
          "output_type": "execute_result",
          "data": {
            "text/plain": [
              "[<keras.engine.input_layer.InputLayer at 0x7f4d7a1b15b0>,\n",
              " <keras.layers.convolutional.conv2d.Conv2D at 0x7f4d7903a7f0>,\n",
              " <keras.layers.convolutional.conv2d.Conv2D at 0x7f4d7903ae50>,\n",
              " <keras.layers.pooling.max_pooling2d.MaxPooling2D at 0x7f4d78f7f520>,\n",
              " <keras.layers.convolutional.conv2d.Conv2D at 0x7f4d78f2ec10>,\n",
              " <keras.layers.convolutional.conv2d.Conv2D at 0x7f4d78f406d0>,\n",
              " <keras.layers.pooling.max_pooling2d.MaxPooling2D at 0x7f4d78f2ecd0>,\n",
              " <keras.layers.convolutional.conv2d.Conv2D at 0x7f4d78f4ad00>,\n",
              " <keras.layers.convolutional.conv2d.Conv2D at 0x7f4d78f4e7c0>,\n",
              " <keras.layers.convolutional.conv2d.Conv2D at 0x7f4d78f4aee0>,\n",
              " <keras.layers.pooling.max_pooling2d.MaxPooling2D at 0x7f4d78f55820>,\n",
              " <keras.layers.convolutional.conv2d.Conv2D at 0x7f4d78f5bf70>,\n",
              " <keras.layers.convolutional.conv2d.Conv2D at 0x7f4d78ee2b80>,\n",
              " <keras.layers.convolutional.conv2d.Conv2D at 0x7f4d78ee2190>,\n",
              " <keras.layers.pooling.max_pooling2d.MaxPooling2D at 0x7f4d78eea4c0>,\n",
              " <keras.layers.convolutional.conv2d.Conv2D at 0x7f4d78eeee20>,\n",
              " <keras.layers.convolutional.conv2d.Conv2D at 0x7f4d78eeea60>,\n",
              " <keras.layers.convolutional.conv2d.Conv2D at 0x7f4d78ef1340>,\n",
              " <keras.layers.pooling.max_pooling2d.MaxPooling2D at 0x7f4d78ef9ca0>,\n",
              " <keras.layers.pooling.global_average_pooling2d.GlobalAveragePooling2D at 0x7f4d78ef9460>]"
            ]
          },
          "metadata": {},
          "execution_count": 6
        }
      ],
      "source": [
        "modelvgg.layers[0].layers"
      ]
    },
    {
      "cell_type": "code",
      "execution_count": null,
      "metadata": {
        "id": "9xI6dAtrUWNZ"
      },
      "outputs": [],
      "source": [
        "modelvgg.layers[0].trainable = False"
      ]
    },
    {
      "cell_type": "code",
      "execution_count": null,
      "metadata": {
        "colab": {
          "base_uri": "https://localhost:8080/"
        },
        "id": "ExIX6FsGUlEu",
        "outputId": "282c540c-a620-4ba8-e63c-633df4f7fbf8"
      },
      "outputs": [
        {
          "output_type": "stream",
          "name": "stdout",
          "text": [
            "Model: \"sequential\"\n",
            "_________________________________________________________________\n",
            " Layer (type)                Output Shape              Param #   \n",
            "=================================================================\n",
            " vgg16 (Functional)          (None, 512)               14714688  \n",
            "                                                                 \n",
            " dense (Dense)               (None, 3)                 1539      \n",
            "                                                                 \n",
            "=================================================================\n",
            "Total params: 14,716,227\n",
            "Trainable params: 1,539\n",
            "Non-trainable params: 14,714,688\n",
            "_________________________________________________________________\n"
          ]
        }
      ],
      "source": [
        "modelvgg.summary()"
      ]
    },
    {
      "cell_type": "code",
      "execution_count": null,
      "metadata": {
        "colab": {
          "base_uri": "https://localhost:8080/"
        },
        "id": "78uTvOzgUoVQ",
        "outputId": "7707b49c-217f-4971-b1c8-f4143829d293"
      },
      "outputs": [
        {
          "name": "stdout",
          "output_type": "stream",
          "text": [
            "Epoch 1/10\n",
            "26/25 [===============================] - ETA: -5s - loss: 3.2331 - accuracy: 0.6615"
          ]
        },
        {
          "name": "stderr",
          "output_type": "stream",
          "text": [
            "WARNING:tensorflow:5 out of the last 99 calls to <function Model.make_test_function.<locals>.test_function at 0x7f538c27adc0> triggered tf.function retracing. Tracing is expensive and the excessive number of tracings could be due to (1) creating @tf.function repeatedly in a loop, (2) passing tensors with different shapes, (3) passing Python objects instead of tensors. For (1), please define your @tf.function outside of the loop. For (2), @tf.function has reduce_retracing=True option that can avoid unnecessary retracing. For (3), please refer to https://www.tensorflow.org/guide/function#controlling_retracing and https://www.tensorflow.org/api_docs/python/tf/function for  more details.\n"
          ]
        },
        {
          "name": "stdout",
          "output_type": "stream",
          "text": [
            "\b\b\b\b\b\b\b\b\b\b\b\b\b\b\b\b\b\b\b\b\b\b\b\b\b\b\b\b\b\b\b\b\b\b\b\b\b\b\b\b\b\b\b\b\b\b\b\b\b\b\b\b\b\b\b\b\b\b\b\b\b\b\b\b\b\b\b\b\b\b\b\b\b\b\b\b\b\b\b\b\b\b\b\b\r25/25 [==============================] - 188s 7s/step - loss: 3.2331 - accuracy: 0.6615 - val_loss: 0.7554 - val_accuracy: 0.8000\n",
            "Epoch 2/10\n",
            "25/25 [==============================] - 161s 6s/step - loss: 1.4281 - accuracy: 0.7838 - val_loss: 2.1766 - val_accuracy: 0.7333\n",
            "Epoch 3/10\n",
            "25/25 [==============================] - 156s 6s/step - loss: 0.5527 - accuracy: 0.8846 - val_loss: 1.9024 - val_accuracy: 0.8667\n",
            "Epoch 4/10\n",
            "25/25 [==============================] - 157s 6s/step - loss: 0.4381 - accuracy: 0.9038 - val_loss: 1.5022 - val_accuracy: 0.8667\n",
            "Epoch 5/10\n",
            "25/25 [==============================] - 154s 6s/step - loss: 0.5010 - accuracy: 0.9038 - val_loss: 0.1412 - val_accuracy: 0.9333\n",
            "Epoch 6/10\n",
            "25/25 [==============================] - 157s 6s/step - loss: 0.4530 - accuracy: 0.9077 - val_loss: 0.5435 - val_accuracy: 0.8667\n",
            "Epoch 7/10\n",
            "25/25 [==============================] - 155s 6s/step - loss: 0.2753 - accuracy: 0.9385 - val_loss: 0.4110 - val_accuracy: 0.9000\n",
            "Epoch 8/10\n",
            "25/25 [==============================] - 155s 6s/step - loss: 0.1670 - accuracy: 0.9614 - val_loss: 0.4622 - val_accuracy: 0.8667\n",
            "Epoch 9/10\n",
            "25/25 [==============================] - 155s 6s/step - loss: 0.3254 - accuracy: 0.9077 - val_loss: 1.3467 - val_accuracy: 0.9333\n",
            "Epoch 10/10\n",
            "25/25 [==============================] - 155s 6s/step - loss: 0.1093 - accuracy: 0.9692 - val_loss: 0.3703 - val_accuracy: 0.9000\n"
          ]
        }
      ],
      "source": [
        "modelvgg.compile(optimizer='adam', loss='categorical_crossentropy', metrics=['accuracy'])\n",
        "\n",
        "steps_per_epoch_training_vgg= len(traingenvgg)/ batch_size_training\n",
        "steps_per_epoch_validation_vgg = len(valgenvgg)/ batch_size_validation\n",
        "num_epochs_vgg = 10\n",
        "\n",
        "fit_history_vgg= modelvgg.fit(\n",
        "    traingenvgg,\n",
        "    steps_per_epoch=steps_per_epoch_training_vgg,\n",
        "    epochs=num_epochs_vgg,\n",
        "    validation_data=valgenvgg,\n",
        "    validation_steps=steps_per_epoch_validation_vgg,\n",
        "    verbose=1,\n",
        ")"
      ]
    },
    {
      "cell_type": "code",
      "execution_count": null,
      "metadata": {
        "colab": {
          "base_uri": "https://localhost:8080/"
        },
        "id": "8KtNu3ZwVNiw",
        "outputId": "d7751224-aa8b-4912-acc1-7819b35cd3e0"
      },
      "outputs": [
        {
          "name": "stderr",
          "output_type": "stream",
          "text": [
            "WARNING:absl:Found untraced functions such as _jit_compiled_convolution_op, _jit_compiled_convolution_op, _jit_compiled_convolution_op, _jit_compiled_convolution_op, _jit_compiled_convolution_op while saving (showing 5 of 13). These functions will not be directly callable after loading.\n"
          ]
        }
      ],
      "source": [
        "modelvgg.save('/content/drive/MyDrive/Grocery/Models/classifier_vgg16_model')"
      ]
    },
    {
      "cell_type": "code",
      "execution_count": null,
      "metadata": {
        "colab": {
          "base_uri": "https://localhost:8080/"
        },
        "id": "LWm6MDoTGFYQ",
        "outputId": "964db4ae-95e2-4afe-d74a-82f6de73ee8c"
      },
      "outputs": [
        {
          "output_type": "stream",
          "name": "stderr",
          "text": [
            "<ipython-input-9-2947845e069b>:6: UserWarning: `Model.evaluate_generator` is deprecated and will be removed in a future version. Please use `Model.evaluate`, which supports generators.\n",
            "  score_vgg = trained_model_vgg.evaluate_generator(testgenvgg, steps=steps_per_epoch_test_vgg)\n"
          ]
        },
        {
          "output_type": "stream",
          "name": "stdout",
          "text": [
            "Accuracy of VGG16: 90.625% \n",
            " Error: 9.375\n"
          ]
        }
      ],
      "source": [
        "steps_per_epoch_test_vgg = len(testgenvgg)/ batch_size_validation\n",
        "\n",
        "from keras.models import load_model\n",
        "trained_model_vgg = load_model('/content/drive/MyDrive/Grocery/Models/classifier_vgg16_model')\n",
        "\n",
        "score_vgg = trained_model_vgg.evaluate_generator(testgenvgg, steps=steps_per_epoch_test_vgg)\n",
        "\n",
        "print('Accuracy of VGG16: {}% \\n Error: {}'.format((score_vgg[1]*100), (1 - score_vgg[1])*100))"
      ]
    },
    {
      "cell_type": "code",
      "execution_count": null,
      "metadata": {
        "colab": {
          "base_uri": "https://localhost:8080/"
        },
        "id": "YX2g7DOgGbfK",
        "outputId": "5b18923c-7acc-49cf-b095-d39dd538134d"
      },
      "outputs": [
        {
          "output_type": "stream",
          "name": "stdout",
          "text": [
            "Looking in indexes: https://pypi.org/simple, https://us-python.pkg.dev/colab-wheels/public/simple/\n",
            "Requirement already satisfied: pyyaml in /usr/local/lib/python3.8/dist-packages (6.0)\n",
            "Requirement already satisfied: h5py in /usr/local/lib/python3.8/dist-packages (3.1.0)\n",
            "Requirement already satisfied: numpy>=1.17.5 in /usr/local/lib/python3.8/dist-packages (from h5py) (1.22.4)\n"
          ]
        }
      ],
      "source": [
        "!pip install pyyaml h5py\n",
        "import os\n",
        "\n",
        "import tensorflow as tf\n",
        "from tensorflow import keras"
      ]
    },
    {
      "cell_type": "code",
      "execution_count": null,
      "metadata": {
        "colab": {
          "base_uri": "https://localhost:8080/",
          "height": 295
        },
        "id": "AjzUFT49WRk-",
        "outputId": "43a58cc2-17f3-438c-a9da-32c66e8debeb"
      },
      "outputs": [
        {
          "data": {
            "image/png": "[encoded data removed]",
            "text/plain": [
              "<Figure size 432x288 with 1 Axes>"
            ]
          },
          "metadata": {},
          "output_type": "display_data"
        }
      ],
      "source": [
        "# Plot training & validation loss values\n",
        "plt.plot(fit_history_vgg.history['accuracy'])\n",
        "plt.plot(fit_history_vgg.history['val_accuracy'])\n",
        "plt.title('VGG 16 Model accuracy values')\n",
        "plt.ylabel('Accuracy')\n",
        "plt.xlabel('Epoch')\n",
        "plt.legend(['Train', 'Test'], loc='upper left')\n",
        "plt.show()"
      ]
    },
    {
      "cell_type": "markdown",
      "metadata": {
        "id": "_tBIyOTwWf4n"
      },
      "source": [
        "# **RESNET50**"
      ]
    },
    {
      "cell_type": "code",
      "execution_count": null,
      "metadata": {
        "colab": {
          "base_uri": "https://localhost:8080/"
        },
        "id": "4iHN3SqoXAQd",
        "outputId": "7b7731bd-19bc-4c6c-b63d-6622840c9570"
      },
      "outputs": [
        {
          "output_type": "stream",
          "name": "stdout",
          "text": [
            "Found 2509 images belonging to 3 classes.\n",
            "Found 297 images belonging to 3 classes.\n",
            "Found 356 images belonging to 3 classes.\n",
            "Downloading data from https://storage.googleapis.com/tensorflow/keras-applications/resnet/resnet50_weights_tf_dim_ordering_tf_kernels_notop.h5\n",
            "94765736/94765736 [==============================] - 1s 0us/step\n"
          ]
        }
      ],
      "source": [
        "import tensorflow as tf\n",
        "datagenres50 = ImageDataGenerator(\n",
        "    preprocessing_function=tf.keras.applications.resnet50.preprocess_input ,\n",
        ")\n",
        "\n",
        "traingenres50 = datagenres50.flow_from_directory(\n",
        "    train_path ,\n",
        "    target_size=(image_resize, image_resize),\n",
        "    batch_size=batch_size_training,\n",
        "    class_mode='categorical')\n",
        "\n",
        "valgenres50 = datagenres50.flow_from_directory(\n",
        "    validation,\n",
        "    target_size=(image_resize, image_resize),\n",
        "    batch_size=batch_size_validation,\n",
        "    class_mode='categorical')\n",
        "\n",
        "testgenres50 = datagenres50.flow_from_directory(\n",
        "    test_path,\n",
        "    target_size=(image_resize, image_resize),\n",
        "    shuffle=False)\n",
        "\n",
        "\n",
        "modelres50 = Sequential()\n",
        "\n",
        "modelres50.add(ResNet50(\n",
        "    include_top=False,\n",
        "    pooling='avg',\n",
        "    weights='imagenet',\n",
        "    ))\n",
        "\n",
        "modelres50.add(Dense(num_classes_vgg16, activation='softmax'))\n",
        "\n",
        "modelres50.layers\n",
        "modelres50.layers[0].layers\n",
        "modelres50.layers[0].trainable = False\n",
        "modelres50.compile(optimizer='adam', loss='categorical_crossentropy', metrics=['accuracy'])"
      ]
    },
    {
      "cell_type": "code",
      "execution_count": null,
      "metadata": {
        "id": "dXBEowc8YuTN"
      },
      "outputs": [],
      "source": [
        "print(len(traingenres50))\n",
        "print(len(valgenres50))\n",
        "import math\n",
        "steps_per_epoch_training_res50 = math.ceil(len(traingenres50)/ batch_size_training)\n",
        "#int(round(len(train_generator)/ batch_size_training))\n",
        "steps_per_epoch_validation_res50 = math.ceil(len(valgenres50)/ batch_size_validation)\n",
        "num_epochs_res50 = 10\n",
        "\n",
        "print(steps_per_epoch_validation_res50)\n",
        "fit_history_res50 = modelres50.fit(\n",
        "    traingenres50,\n",
        "    steps_per_epoch=steps_per_epoch_training_res50,\n",
        "    epochs=10,\n",
        "    validation_data=valgenres50,\n",
        "    validation_steps=steps_per_epoch_validation_res50,\n",
        "    verbose=1,\n",
        ")"
      ]
    },
    {
      "cell_type": "code",
      "execution_count": null,
      "metadata": {
        "colab": {
          "base_uri": "https://localhost:8080/"
        },
        "id": "Ddn-92DFZe8L",
        "outputId": "038d3c33-d3d2-4e71-eefb-19ebf3db4a0c"
      },
      "outputs": [
        {
          "name": "stderr",
          "output_type": "stream",
          "text": [
            "WARNING:absl:Found untraced functions such as _jit_compiled_convolution_op, _jit_compiled_convolution_op, _jit_compiled_convolution_op, _jit_compiled_convolution_op, _jit_compiled_convolution_op while saving (showing 5 of 53). These functions will not be directly callable after loading.\n"
          ]
        }
      ],
      "source": [
        "modelres50.save('/content/drive/MyDrive/Grocery/Models/classifier_resnet_model')\n"
      ]
    },
    {
      "cell_type": "code",
      "execution_count": null,
      "metadata": {
        "colab": {
          "base_uri": "https://localhost:8080/"
        },
        "id": "J-7-ToIKIpL1",
        "outputId": "6ed67272-bef0-4abf-fc21-220235ff1cde"
      },
      "outputs": [
        {
          "output_type": "stream",
          "name": "stderr",
          "text": [
            "<ipython-input-13-fa3b3838da0a>:5: UserWarning: `Model.evaluate_generator` is deprecated and will be removed in a future version. Please use `Model.evaluate`, which supports generators.\n",
            "  score_res50 = trained_model_res50.evaluate_generator(testgenres50, steps=steps_per_epoch_test_res50)\n"
          ]
        },
        {
          "output_type": "stream",
          "name": "stdout",
          "text": [
            "Accuracy of ResNET50: 98.4375% \n",
            " Error: 1.5625\n"
          ]
        }
      ],
      "source": [
        "steps_per_epoch_test_res50 = math.ceil(len(testgenres50)/ 10)\n",
        "\n",
        "from keras.models import load_model\n",
        "trained_model_res50 = load_model('/content/drive/MyDrive/Grocery/Models/classifier_resnet_model')\n",
        "score_res50 = trained_model_res50.evaluate_generator(testgenres50, steps=steps_per_epoch_test_res50)\n",
        "print('Accuracy of ResNET50: {}% \\n Error: {}'.format((score_res50[1]*100), (1 - score_res50[1])*100))"
      ]
    },
    {
      "cell_type": "code",
      "execution_count": null,
      "metadata": {
        "colab": {
          "base_uri": "https://localhost:8080/",
          "height": 295
        },
        "id": "MyVACMp0ZuBj",
        "outputId": "5169eb0c-df95-402f-b26a-a41b62d206bc"
      },
      "outputs": [
        {
          "data": {
            "image/png": "[encoded data removed]",
            "text/plain": [
              "<Figure size 432x288 with 1 Axes>"
            ]
          },
          "metadata": {},
          "output_type": "display_data"
        }
      ],
      "source": [
        "# Plot training & validation loss values\n",
        "plt.plot(fit_history_res50.history['accuracy'])\n",
        "plt.plot(fit_history_res50.history['val_accuracy'])\n",
        "plt.title('ResNET50 Model accuracy values')\n",
        "plt.ylabel('Accuracy')\n",
        "plt.xlabel('Epoch')\n",
        "plt.legend(['Train', 'Test'], loc='upper left')\n",
        "plt.show()"
      ]
    },
    {
      "cell_type": "markdown",
      "metadata": {
        "id": "ltLw3u1W7yEe"
      },
      "source": [
        "# **Ensemble Learning**"
      ]
    },
    {
      "cell_type": "code",
      "execution_count": null,
      "metadata": {
        "id": "etIXZL8HS_mB"
      },
      "outputs": [],
      "source": [
        "IMAGE_SIZE = [224, 224]\n",
        "num_classes_vgg16 = 3\n",
        "image_resize = 224\n",
        "batch_size_training = 10\n",
        "batch_size_validation = 10\n",
        "\n",
        "test_path='/content/drive/MyDrive/Grocery/test'\n",
        "\n",
        "\n",
        "train_path='/content/drive/MyDrive/Grocery/train'\n",
        "\n",
        "validation = '/content/drive/MyDrive/Grocery/validation'"
      ]
    },
    {
      "cell_type": "code",
      "execution_count": null,
      "metadata": {
        "id": "1raxi4hW1FkA"
      },
      "outputs": [],
      "source": [
        "from tensorflow.keras.models import Model, load_model\n",
        "from tensorflow.keras.layers import Input, Average\n",
        "\n",
        "vgg_model = load_model('/content/drive/MyDrive/Grocery/Models/classifier_vgg16_model')\n",
        "vgg_model = Model(inputs = vgg_model.inputs, outputs = vgg_model.outputs, name = 'modelvgg')\n",
        "resnet_model = load_model('/content/drive/MyDrive/Grocery/Models/classifier_resnet_model')\n",
        "resnet_model = Model(inputs = resnet_model.inputs, outputs = resnet_model.outputs, name = 'modelres50')\n",
        "mobilenet_model = load_model('/content/drive/MyDrive/Grocery/Models/model_mobile')\n",
        "mobilenet_model = Model(inputs = mobilenet_model.inputs, outputs = mobilenet_model.outputs, name = 'modelmobile')\n",
        "\n",
        "combine_models = [vgg_model, resnet_model, mobilenet_model]\n",
        "model_input = Input(shape =(224, 224, 3))\n",
        "model_outputs = [model(model_input) for model in combine_models]\n",
        "ensemble_output = Average ()(model_outputs)\n",
        "ensemble_model = Model (inputs = model_input, outputs = ensemble_output, name = 'ensemble' )"
      ]
    },
    {
      "cell_type": "code",
      "execution_count": null,
      "metadata": {
        "id": "jdITbS6AXxLM"
      },
      "outputs": [],
      "source": [
        "from tensorflow.keras.models import Model, load_model\n",
        "from tensorflow.keras.layers import Input, Average\n",
        "\n",
        "vgg_model = load_model('/content/drive/MyDrive/Grocery/Models/classifier_vgg16_model')\n",
        "vgg_model = Model(inputs = vgg_model.inputs, outputs = vgg_model.outputs, name = 'modelvgg')\n",
        "resnet_model = load_model('/content/drive/MyDrive/Grocery/Models/classifier_resnet_model')\n",
        "resnet_model = Model(inputs = resnet_model.inputs, outputs = resnet_model.outputs, name = 'modelres50')\n",
        "\n",
        "combine_models2 = [vgg_model, resnet_model]\n",
        "model_input = Input(shape =(224, 224, 3))\n",
        "model_outputs2 = [model(model_input) for model in combine_models2]\n",
        "ensemble_output2 = Average ()(model_outputs2)\n",
        "ensemble_model2 = Model (inputs = model_input, outputs = ensemble_output2, name = 'ensemble2' )"
      ]
    },
    {
      "cell_type": "code",
      "execution_count": null,
      "metadata": {
        "id": "l47KJQE6XyG8"
      },
      "outputs": [],
      "source": [
        "from tensorflow.keras.models import Model, load_model\n",
        "from tensorflow.keras.layers import Input, Average\n",
        "\n",
        "vgg_model = load_model('/content/drive/MyDrive/Grocery/Models/classifier_vgg16_model')\n",
        "vgg_model = Model(inputs = vgg_model.inputs, outputs = vgg_model.outputs, name = 'modelvgg')\n",
        "resnet_model = load_model('/content/drive/MyDrive/Grocery/Models/classifier_resnet_model')\n",
        "resnet_model = Model(inputs = resnet_model.inputs, outputs = resnet_model.outputs, name = 'modelres50')\n",
        "mobilenet_model = load_model('/content/drive/MyDrive/Grocery/Models/model_mobile')\n",
        "mobilenet_model = Model(inputs = mobilenet_model.inputs, outputs = mobilenet_model.outputs, name = 'modelmobile')\n",
        "\n",
        "combine_models3 = [vgg_model, mobilenet_model]\n",
        "model_input = Input(shape =(224, 224, 3))\n",
        "model_outputs3 = [model(model_input) for model in combine_models3]\n",
        "ensemble_output3 = Average ()(model_outputs3)\n",
        "ensemble_model3 = Model (inputs = model_input, outputs = ensemble_output3, name = 'ensemble3' )"
      ]
    },
    {
      "cell_type": "code",
      "execution_count": null,
      "metadata": {
        "id": "hCunSG_SYlsH"
      },
      "outputs": [],
      "source": [
        "from tensorflow.keras.models import Model, load_model\n",
        "from tensorflow.keras.layers import Input, Average\n",
        "\n",
        "resnet_model = load_model('/content/drive/MyDrive/Grocery/Models/classifier_resnet_model')\n",
        "resnet_model = Model(inputs = resnet_model.inputs, outputs = resnet_model.outputs, name = 'modelres50')\n",
        "mobilenet_model = load_model('/content/drive/MyDrive/Grocery/Models/model_mobile')\n",
        "mobilenet_model = Model(inputs = mobilenet_model.inputs, outputs = mobilenet_model.outputs, name = 'modelmobile')\n",
        "\n",
        "combine_models4 = [resnet_model, mobilenet_model]\n",
        "model_input = Input(shape =(224, 224, 3))\n",
        "model_outputs4 = [model(model_input) for model in combine_models4]\n",
        "ensemble_output4 = Average ()(model_outputs4)\n",
        "ensemble_model4 = Model (inputs = model_input, outputs = ensemble_output4, name = 'ensemble4' )"
      ]
    },
    {
      "cell_type": "code",
      "execution_count": null,
      "metadata": {
        "colab": {
          "base_uri": "https://localhost:8080/"
        },
        "id": "5UPN4MaC-Hju",
        "outputId": "85a4dc97-2b69-4fe4-c6cd-ca3c3699613b"
      },
      "outputs": [
        {
          "output_type": "stream",
          "name": "stdout",
          "text": [
            "Found 2509 images belonging to 3 classes.\n",
            "Found 356 images belonging to 3 classes.\n",
            "Found 297 images belonging to 3 classes.\n"
          ]
        }
      ],
      "source": [
        "train_datagen = ImageDataGenerator(\n",
        "    preprocessing_function=preprocess_input,\n",
        "    rotation_range=40,\n",
        "    width_shift_range=0.2,\n",
        "    height_shift_range=0.2,\n",
        "    shear_range=0.2,\n",
        "    zoom_range=0.2,\n",
        "    horizontal_flip=True,\n",
        "    fill_mode='nearest')\n",
        "\n",
        "train_set = train_datagen.flow_from_directory(train_path,\n",
        "                                              target_size = (224, 224),\n",
        "                                              batch_size = 50,\n",
        "                                              class_mode = 'categorical')\n",
        "\n",
        "\n",
        "test_set = train_datagen.flow_from_directory(test_path,\n",
        "                                            target_size = (224, 224),\n",
        "                                            batch_size = 50,\n",
        "                                            class_mode = 'categorical')\n",
        "\n",
        "val_set = train_datagen.flow_from_directory(validation,\n",
        "                                            target_size = (224, 224),\n",
        "                                            batch_size = 50,\n",
        "                                            class_mode = 'categorical')"
      ]
    },
    {
      "cell_type": "code",
      "execution_count": null,
      "metadata": {
        "id": "1Pr5nOmkTI5s"
      },
      "outputs": [],
      "source": [
        "import math\n",
        "steps_per_epoch_training = math.ceil(len(train_set)/ batch_size_training)\n",
        "#int(round(len(train_generator)/ batch_size_training))\n",
        "steps_per_epoch_validation = math.ceil(len(val_set)/ batch_size_validation)"
      ]
    },
    {
      "cell_type": "code",
      "execution_count": null,
      "metadata": {
        "id": "ezCNtYPf7wrI"
      },
      "outputs": [],
      "source": [
        "ensemble_model.compile(optimizer='adam',loss = 'categorical_crossentropy', metrics= ['accuracy'])\n",
        "ensemble_history = ensemble_model.fit(\n",
        "    train_set,\n",
        "    epochs=10,\n",
        "    validation_data = val_set\n",
        ")\n",
        "\n",
        "ensemble_model.save('/content/drive/MyDrive/Grocery/Models/ensemble_model')"
      ]
    },
    {
      "cell_type": "code",
      "execution_count": null,
      "metadata": {
        "colab": {
          "base_uri": "https://localhost:8080/"
        },
        "id": "X-JMJXD7AG71",
        "outputId": "aece668c-340a-45fa-f9ac-1d1c62f0714b"
      },
      "outputs": [
        {
          "name": "stderr",
          "output_type": "stream",
          "text": [
            "WARNING:absl:Found untraced functions such as dense_layer_call_fn, dense_layer_call_and_return_conditional_losses, _jit_compiled_convolution_op, _jit_compiled_convolution_op, _jit_compiled_convolution_op while saving (showing 5 of 120). These functions will not be directly callable after loading.\n"
          ]
        }
      ],
      "source": [
        "ensemble_model.save('/content/drive/MyDrive/Grocery/Models/ensemble_model')"
      ]
    },
    {
      "cell_type": "code",
      "execution_count": null,
      "metadata": {
        "colab": {
          "base_uri": "https://localhost:8080/"
        },
        "id": "z88mYnlzO8uX",
        "outputId": "5eb152eb-4c16-4b1c-c64e-e146c27978bb"
      },
      "outputs": [
        {
          "output_type": "stream",
          "name": "stderr",
          "text": [
            "<ipython-input-28-a5f98ae19020>:6: UserWarning: `Model.evaluate_generator` is deprecated and will be removed in a future version. Please use `Model.evaluate`, which supports generators.\n",
            "  score_combined1= trained_model.evaluate_generator(test_set, steps=steps_per_epoch_test)\n"
          ]
        },
        {
          "output_type": "stream",
          "name": "stdout",
          "text": [
            "Accuracy of Combined VGG16, ResNET50, MobileNET: 83.99999737739563% \n",
            " Error: 16.00000262260437\n"
          ]
        }
      ],
      "source": [
        "\n",
        "from keras.models import load_model\n",
        "import math\n",
        "steps_per_epoch_test = math.ceil(len(test_set)/ 10)\n",
        "\n",
        "trained_model = load_model('/content/drive/MyDrive/Grocery/Models/ensemble_modelNew')\n",
        "score_combined1= trained_model.evaluate_generator(test_set, steps=steps_per_epoch_test)\n",
        "print('Accuracy of Combined VGG16, ResNET50, MobileNET: {}% \\n Error: {}'.format((score_combined1[1]*100), (1 - score_combined1[1])*100))"
      ]
    },
    {
      "cell_type": "code",
      "execution_count": null,
      "metadata": {
        "colab": {
          "base_uri": "https://localhost:8080/",
          "height": 295
        },
        "id": "NcH2If9pVVtR",
        "outputId": "2032f6c4-a7f6-4ac4-ce8d-4eabe3593bd7"
      },
      "outputs": [
        {
          "data": {
            "image/png": "[encoded data removed]",
            "text/plain": [
              "<Figure size 432x288 with 1 Axes>"
            ]
          },
          "metadata": {},
          "output_type": "display_data"
        }
      ],
      "source": [
        "# Plot training & validation loss values\n",
        "plt.plot(ensemble_history.history['accuracy'])\n",
        "plt.plot(ensemble_history.history['val_accuracy'])\n",
        "plt.title('Combined Model accuracy values')\n",
        "plt.ylabel('Accuracy')\n",
        "plt.xlabel('Epoch')\n",
        "plt.legend(['Train', 'Test'], loc='upper left')\n",
        "plt.show()"
      ]
    },
    {
      "cell_type": "code",
      "execution_count": null,
      "metadata": {
        "colab": {
          "base_uri": "https://localhost:8080/"
        },
        "id": "eJX3Cv1OZGxm",
        "outputId": "64d76c50-e63e-48dc-f6e6-023cdf34d178"
      },
      "outputs": [
        {
          "name": "stdout",
          "output_type": "stream",
          "text": [
            "Epoch 1/10\n",
            "53/53 [==============================] - 1802s 34s/step - loss: 0.8303 - accuracy: 0.6242 - val_loss: 0.7205 - val_accuracy: 0.6993\n",
            "Epoch 2/10\n",
            "53/53 [==============================] - 1765s 33s/step - loss: 0.6496 - accuracy: 0.7314 - val_loss: 0.6447 - val_accuracy: 0.6926\n",
            "Epoch 3/10\n",
            "53/53 [==============================] - 1764s 33s/step - loss: 0.5852 - accuracy: 0.7633 - val_loss: 0.5951 - val_accuracy: 0.7297\n",
            "Epoch 4/10\n",
            "53/53 [==============================] - 1785s 34s/step - loss: 0.5384 - accuracy: 0.7898 - val_loss: 0.5540 - val_accuracy: 0.8007\n",
            "Epoch 5/10\n",
            "53/53 [==============================] - 1784s 34s/step - loss: 0.5048 - accuracy: 0.8087 - val_loss: 0.5431 - val_accuracy: 0.7736\n",
            "Epoch 6/10\n",
            "53/53 [==============================] - 1762s 33s/step - loss: 0.4875 - accuracy: 0.8129 - val_loss: 0.5302 - val_accuracy: 0.7804\n",
            "Epoch 7/10\n",
            "53/53 [==============================] - 1792s 34s/step - loss: 0.4669 - accuracy: 0.8292 - val_loss: 0.5053 - val_accuracy: 0.7905\n",
            "Epoch 8/10\n",
            "53/53 [==============================] - 1782s 34s/step - loss: 0.4499 - accuracy: 0.8398 - val_loss: 0.5025 - val_accuracy: 0.8142\n",
            "Epoch 9/10\n",
            "53/53 [==============================] - 1769s 33s/step - loss: 0.4383 - accuracy: 0.8420 - val_loss: 0.4874 - val_accuracy: 0.7872\n",
            "Epoch 10/10\n",
            "53/53 [==============================] - 1756s 33s/step - loss: 0.4259 - accuracy: 0.8451 - val_loss: 0.4882 - val_accuracy: 0.8074\n"
          ]
        },
        {
          "name": "stderr",
          "output_type": "stream",
          "text": [
            "WARNING:absl:Found untraced functions such as _jit_compiled_convolution_op, _jit_compiled_convolution_op, _jit_compiled_convolution_op, _jit_compiled_convolution_op, _jit_compiled_convolution_op while saving (showing 5 of 66). These functions will not be directly callable after loading.\n"
          ]
        }
      ],
      "source": [
        "ensemble_model2.compile(optimizer='adam',loss = 'categorical_crossentropy', metrics= ['accuracy'])\n",
        "ensemble_history2 = ensemble_model2.fit(\n",
        "    train_set,\n",
        "    epochs=10,\n",
        "    validation_data = val_set\n",
        ")\n",
        "\n",
        "ensemble_model2.save('/content/drive/MyDrive/Grocery/Models/ensemble_model_vgg_res')"
      ]
    },
    {
      "cell_type": "code",
      "execution_count": null,
      "metadata": {
        "colab": {
          "base_uri": "https://localhost:8080/"
        },
        "id": "RwKDgyptZW0a",
        "outputId": "9213763b-7c06-4c2a-cfd6-f15a31f40dd8"
      },
      "outputs": [
        {
          "name": "stderr",
          "output_type": "stream",
          "text": [
            "WARNING:absl:Found untraced functions such as _jit_compiled_convolution_op, _jit_compiled_convolution_op, _jit_compiled_convolution_op, _jit_compiled_convolution_op, _jit_compiled_convolution_op while saving (showing 5 of 66). These functions will not be directly callable after loading.\n"
          ]
        }
      ],
      "source": [
        "ensemble_model2.save('/content/drive/MyDrive/Grocery/Models/ensemble_model_vgg_res')"
      ]
    },
    {
      "cell_type": "code",
      "execution_count": null,
      "metadata": {
        "colab": {
          "base_uri": "https://localhost:8080/"
        },
        "id": "vaq00oPJyP3N",
        "outputId": "10485cf0-cc5c-48af-f800-881f637d49c0"
      },
      "outputs": [
        {
          "output_type": "stream",
          "name": "stderr",
          "text": [
            "<ipython-input-29-9c784532eb19>:6: UserWarning: `Model.evaluate_generator` is deprecated and will be removed in a future version. Please use `Model.evaluate`, which supports generators.\n",
            "  score_combined2= trained_model2.evaluate_generator(test_set, steps=steps_per_epoch_test)\n",
            "WARNING:tensorflow:5 out of the last 8 calls to <function Model.make_test_function.<locals>.test_function at 0x7f4d4bc723a0> triggered tf.function retracing. Tracing is expensive and the excessive number of tracings could be due to (1) creating @tf.function repeatedly in a loop, (2) passing tensors with different shapes, (3) passing Python objects instead of tensors. For (1), please define your @tf.function outside of the loop. For (2), @tf.function has reduce_retracing=True option that can avoid unnecessary retracing. For (3), please refer to https://www.tensorflow.org/guide/function#controlling_retracing and https://www.tensorflow.org/api_docs/python/tf/function for  more details.\n"
          ]
        },
        {
          "output_type": "stream",
          "name": "stdout",
          "text": [
            "Accuracy of Combined VGG16, ResNET50: 80.0000011920929% \n",
            " Error: 19.999998807907104\n"
          ]
        }
      ],
      "source": [
        "\n",
        "from keras.models import load_model\n",
        "import math\n",
        "steps_per_epoch_test = math.ceil(len(test_set)/ 10)\n",
        "\n",
        "trained_model2 = load_model('/content/drive/MyDrive/Grocery/Models/ensemble_model_vgg_res')\n",
        "score_combined2= trained_model2.evaluate_generator(test_set, steps=steps_per_epoch_test)\n",
        "print('Accuracy of Combined VGG16, ResNET50: {}% \\n Error: {}'.format((score_combined2[1]*100), (1 - score_combined2[1])*100))"
      ]
    },
    {
      "cell_type": "code",
      "execution_count": null,
      "metadata": {
        "colab": {
          "base_uri": "https://localhost:8080/"
        },
        "id": "76mrYvRJZvCp",
        "outputId": "a29df4e6-53dc-4edf-b825-afdf782e6a7f"
      },
      "outputs": [
        {
          "output_type": "stream",
          "name": "stdout",
          "text": [
            "Epoch 1/10\n",
            "51/51 [==============================] - 1594s 31s/step - loss: 0.2701 - accuracy: 0.9737 - val_loss: 0.1965 - val_accuracy: 0.9899\n",
            "Epoch 2/10\n",
            "51/51 [==============================] - 1589s 31s/step - loss: 0.2076 - accuracy: 0.9749 - val_loss: 0.1937 - val_accuracy: 0.9798\n",
            "Epoch 3/10\n",
            "51/51 [==============================] - 1564s 31s/step - loss: 0.1738 - accuracy: 0.9853 - val_loss: 0.1700 - val_accuracy: 0.9798\n",
            "Epoch 4/10\n",
            "51/51 [==============================] - 1565s 31s/step - loss: 0.1622 - accuracy: 0.9845 - val_loss: 0.1453 - val_accuracy: 0.9966\n",
            "Epoch 5/10\n",
            "51/51 [==============================] - 1558s 31s/step - loss: 0.1522 - accuracy: 0.9821 - val_loss: 0.1318 - val_accuracy: 0.9966\n",
            "Epoch 6/10\n",
            "51/51 [==============================] - 1563s 31s/step - loss: 0.1409 - accuracy: 0.9833 - val_loss: 0.1274 - val_accuracy: 0.9933\n",
            "Epoch 7/10\n",
            "51/51 [==============================] - 1565s 31s/step - loss: 0.1355 - accuracy: 0.9841 - val_loss: 0.1288 - val_accuracy: 0.9933\n",
            "Epoch 8/10\n",
            "51/51 [==============================] - 1559s 31s/step - loss: 0.1301 - accuracy: 0.9841 - val_loss: 0.1143 - val_accuracy: 0.9933\n",
            "Epoch 9/10\n",
            "51/51 [==============================] - 1560s 31s/step - loss: 0.1194 - accuracy: 0.9868 - val_loss: 0.1189 - val_accuracy: 0.9933\n",
            "Epoch 10/10\n",
            "51/51 [==============================] - 1557s 31s/step - loss: 0.1243 - accuracy: 0.9849 - val_loss: 0.1088 - val_accuracy: 0.9966\n"
          ]
        },
        {
          "output_type": "stream",
          "name": "stderr",
          "text": [
            "WARNING:absl:Found untraced functions such as _jit_compiled_convolution_op, _jit_compiled_convolution_op, _jit_compiled_convolution_op, _jit_compiled_convolution_op, _jit_compiled_convolution_op while saving (showing 5 of 65). These functions will not be directly callable after loading.\n"
          ]
        }
      ],
      "source": [
        "ensemble_model3.compile(optimizer='adam',loss = 'categorical_crossentropy', metrics= ['accuracy'])\n",
        "ensemble_history3 = ensemble_model3.fit(\n",
        "    train_set,\n",
        "    epochs=10,\n",
        "    validation_data = val_set\n",
        ")\n",
        "ensemble_model3.save('/content/drive/MyDrive/Grocery/Models/ensemble_model_vgg_mob')"
      ]
    },
    {
      "cell_type": "code",
      "execution_count": null,
      "metadata": {
        "colab": {
          "base_uri": "https://localhost:8080/"
        },
        "id": "uP2zMWhoZzvG",
        "outputId": "e561dd94-6a70-476b-ac2d-05c0cc65a7a0"
      },
      "outputs": [
        {
          "output_type": "stream",
          "name": "stderr",
          "text": [
            "WARNING:absl:Found untraced functions such as _jit_compiled_convolution_op, _jit_compiled_convolution_op, _jit_compiled_convolution_op, _jit_compiled_convolution_op, _jit_compiled_convolution_op while saving (showing 5 of 65). These functions will not be directly callable after loading.\n"
          ]
        }
      ],
      "source": [
        "ensemble_model3.save('/content/drive/MyDrive/Grocery/Models/ensemble_model_vgg_mob')"
      ]
    },
    {
      "cell_type": "code",
      "execution_count": null,
      "metadata": {
        "colab": {
          "base_uri": "https://localhost:8080/"
        },
        "id": "kfd1nSKZPrmc",
        "outputId": "10cb6dad-556b-49bd-b20d-92ff9a074b66"
      },
      "outputs": [
        {
          "output_type": "stream",
          "name": "stderr",
          "text": [
            "<ipython-input-30-277308fbec5f>:6: UserWarning: `Model.evaluate_generator` is deprecated and will be removed in a future version. Please use `Model.evaluate`, which supports generators.\n",
            "  score_combined3= trained_model3.evaluate_generator(test_set, steps=steps_per_epoch_test)\n",
            "WARNING:tensorflow:6 out of the last 9 calls to <function Model.make_test_function.<locals>.test_function at 0x7f4d3ecdd820> triggered tf.function retracing. Tracing is expensive and the excessive number of tracings could be due to (1) creating @tf.function repeatedly in a loop, (2) passing tensors with different shapes, (3) passing Python objects instead of tensors. For (1), please define your @tf.function outside of the loop. For (2), @tf.function has reduce_retracing=True option that can avoid unnecessary retracing. For (3), please refer to https://www.tensorflow.org/guide/function#controlling_retracing and https://www.tensorflow.org/api_docs/python/tf/function for  more details.\n"
          ]
        },
        {
          "output_type": "stream",
          "name": "stdout",
          "text": [
            "Accuracy of Combined VGG16, MobileNET: 100.0% \n",
            " Error: 0.0\n"
          ]
        }
      ],
      "source": [
        "from keras.models import load_model\n",
        "import math\n",
        "steps_per_epoch_test = math.ceil(len(test_set)/ 10)\n",
        "\n",
        "trained_model3 = load_model('/content/drive/MyDrive/Grocery/Models/ensemble_model_vgg_mob')\n",
        "score_combined3= trained_model3.evaluate_generator(test_set, steps=steps_per_epoch_test)\n",
        "print('Accuracy of Combined VGG16, MobileNET: {}% \\n Error: {}'.format((score_combined3[1]*100), (1 - score_combined3[1])*100))"
      ]
    },
    {
      "cell_type": "code",
      "source": [
        "# Plot training & validation loss values\n",
        "plt.plot(ensemble_history3.history['accuracy'])\n",
        "plt.plot(ensemble_history3.history['val_accuracy'])\n",
        "plt.title('Combined Model VGG_MOB accuracy values')\n",
        "plt.ylabel('Accuracy')\n",
        "plt.xlabel('Epoch')\n",
        "plt.legend(['Train', 'Test'], loc='upper left')\n",
        "plt.show()"
      ],
      "metadata": {
        "colab": {
          "base_uri": "https://localhost:8080/",
          "height": 295
        },
        "id": "wlh7HJncbe_w",
        "outputId": "44aa5748-d368-4f71-8394-cde194ae0e4c"
      },
      "execution_count": null,
      "outputs": [
        {
          "output_type": "display_data",
          "data": {
            "text/plain": [
              "<Figure size 432x288 with 1 Axes>"
            ],
            "image/png": "[encoded data removed]"
          },
          "metadata": {
            "needs_background": "light"
          }
        }
      ]
    },
    {
      "cell_type": "code",
      "execution_count": null,
      "metadata": {
        "colab": {
          "base_uri": "https://localhost:8080/"
        },
        "id": "qSKcG7LwaJLf",
        "outputId": "3e7e6de0-22a5-4f31-fc97-51f224cf252b"
      },
      "outputs": [
        {
          "name": "stdout",
          "output_type": "stream",
          "text": [
            "Epoch 1/10\n",
            "53/53 [==============================] - 679s 13s/step - loss: 0.3867 - accuracy: 0.9648 - val_loss: 0.3814 - val_accuracy: 0.9595\n",
            "Epoch 2/10\n",
            "53/53 [==============================] - 640s 12s/step - loss: 0.3389 - accuracy: 0.9705 - val_loss: 0.3952 - val_accuracy: 0.9426\n",
            "Epoch 3/10\n",
            "53/53 [==============================] - 656s 12s/step - loss: 0.3243 - accuracy: 0.9727 - val_loss: 0.3577 - val_accuracy: 0.9561\n",
            "Epoch 4/10\n",
            "53/53 [==============================] - 656s 12s/step - loss: 0.3089 - accuracy: 0.9761 - val_loss: 0.3566 - val_accuracy: 0.9696\n",
            "Epoch 5/10\n",
            "53/53 [==============================] - 654s 12s/step - loss: 0.2876 - accuracy: 0.9788 - val_loss: 0.3322 - val_accuracy: 0.9696\n",
            "Epoch 6/10\n",
            "53/53 [==============================] - 654s 12s/step - loss: 0.2844 - accuracy: 0.9788 - val_loss: 0.3529 - val_accuracy: 0.9595\n",
            "Epoch 7/10\n",
            "53/53 [==============================] - 638s 12s/step - loss: 0.2863 - accuracy: 0.9777 - val_loss: 0.3366 - val_accuracy: 0.9595\n",
            "Epoch 8/10\n",
            "53/53 [==============================] - 633s 12s/step - loss: 0.2737 - accuracy: 0.9773 - val_loss: 0.3261 - val_accuracy: 0.9628\n",
            "Epoch 9/10\n",
            "53/53 [==============================] - 632s 12s/step - loss: 0.2692 - accuracy: 0.9777 - val_loss: 0.3600 - val_accuracy: 0.9527\n",
            "Epoch 10/10\n",
            "53/53 [==============================] - 662s 13s/step - loss: 0.2642 - accuracy: 0.9799 - val_loss: 0.3145 - val_accuracy: 0.9628\n"
          ]
        },
        {
          "name": "stderr",
          "output_type": "stream",
          "text": [
            "WARNING:absl:Found untraced functions such as _jit_compiled_convolution_op, _jit_compiled_convolution_op, _jit_compiled_convolution_op, _jit_compiled_convolution_op, _jit_compiled_convolution_op while saving (showing 5 of 105). These functions will not be directly callable after loading.\n"
          ]
        }
      ],
      "source": [
        "ensemble_model4.compile(optimizer='adam',loss = 'categorical_crossentropy', metrics= ['accuracy'])\n",
        "ensemble_history4 = ensemble_model4.fit(\n",
        "    train_set,\n",
        "    epochs=10,\n",
        "    validation_data = val_set\n",
        ")\n",
        "\n",
        "ensemble_model4.save('/content/drive/MyDrive/Grocery/Models/ensemble_model_res_mob')"
      ]
    },
    {
      "cell_type": "code",
      "execution_count": null,
      "metadata": {
        "colab": {
          "base_uri": "https://localhost:8080/"
        },
        "id": "HOklGBlkadFR",
        "outputId": "815cfd83-b916-4784-f98f-1dee46ca69af"
      },
      "outputs": [
        {
          "name": "stderr",
          "output_type": "stream",
          "text": [
            "WARNING:absl:Found untraced functions such as _jit_compiled_convolution_op, _jit_compiled_convolution_op, _jit_compiled_convolution_op, _jit_compiled_convolution_op, _jit_compiled_convolution_op while saving (showing 5 of 105). These functions will not be directly callable after loading.\n"
          ]
        }
      ],
      "source": [
        "ensemble_model4.save('/content/drive/MyDrive/Colab Notebooks/thesis 400/GroceryStore_Validation/ensemble_model_res_mob')"
      ]
    },
    {
      "cell_type": "code",
      "execution_count": null,
      "metadata": {
        "colab": {
          "base_uri": "https://localhost:8080/"
        },
        "id": "BpIFD8cmQBEl",
        "outputId": "abfe8b91-3ea0-45a5-f9e2-5129c07b04d0"
      },
      "outputs": [
        {
          "output_type": "stream",
          "name": "stderr",
          "text": [
            "<ipython-input-31-64b9f1f0dfba>:6: UserWarning: `Model.evaluate_generator` is deprecated and will be removed in a future version. Please use `Model.evaluate`, which supports generators.\n",
            "  score_combined4= trained_model4.evaluate_generator(test_set, steps=steps_per_epoch_test)\n"
          ]
        },
        {
          "output_type": "stream",
          "name": "stdout",
          "text": [
            "Accuracy of Combined resNET50, MobileNET: 81.99999928474426% \n",
            " Error: 18.000000715255737\n"
          ]
        }
      ],
      "source": [
        "from keras.models import load_model\n",
        "import math\n",
        "steps_per_epoch_test = math.ceil(len(test_set)/ 10)\n",
        "\n",
        "trained_model4 = load_model('/content/drive/MyDrive/Colab Notebooks/thesis 400/GroceryStore_Validation/ensemble_model_res_mob')\n",
        "score_combined4= trained_model4.evaluate_generator(test_set, steps=steps_per_epoch_test)\n",
        "print('Accuracy of Combined resNET50, MobileNET: {}% \\n Error: {}'.format((score_combined4[1]*100), (1 - score_combined4[1])*100))"
      ]
    },
    {
      "cell_type": "markdown",
      "metadata": {
        "id": "d8bQ3B73FodC"
      },
      "source": [
        "# **Combination of Vgg-mob and res-mob**"
      ]
    },
    {
      "cell_type": "code",
      "execution_count": null,
      "metadata": {
        "id": "xJjFlkudD8_L"
      },
      "outputs": [],
      "source": [
        "from tensorflow.keras.models import Model, load_model\n",
        "from tensorflow.keras.layers import Input, Average\n",
        "\n",
        "combo_vgg_mob = load_model('/content/drive/MyDrive/Thesis_database/All_Models/ensemble_model_vgg_mob')\n",
        "combo_vgg_mob = Model(inputs = combo_vgg_mob .inputs, outputs = combo_vgg_mob .outputs, name = 'modelvggmob')\n",
        "\n",
        "combo_res_mob = load_model('/content/drive/MyDrive/Thesis_database/All_Models/ensemble_model_res_mob')\n",
        "combo_res_mob = Model(inputs = combo_res_mob.inputs, outputs = combo_res_mob.outputs, name = 'modelresmob')\n",
        "\n",
        "combine_models5 = [combo_vgg_mob, combo_res_mob]\n",
        "model_input = Input(shape =(224, 224, 3))\n",
        "model_outputs5 = [model(model_input) for model in combine_models5]\n",
        "ensemble_output5 = Average ()(model_outputs5)\n",
        "ensemble_model5= Model (inputs = model_input, outputs = ensemble_output5, name = 'ensemble5' )"
      ]
    },
    {
      "cell_type": "code",
      "execution_count": null,
      "metadata": {
        "colab": {
          "base_uri": "https://localhost:8080/"
        },
        "id": "KJ6TtGesE-Xb",
        "outputId": "812a3539-d54d-4a30-a1c2-09affe466f74"
      },
      "outputs": [
        {
          "name": "stdout",
          "output_type": "stream",
          "text": [
            "Found 2640 images belonging to 3 classes.\n",
            "Found 296 images belonging to 3 classes.\n",
            "Epoch 1/10\n",
            "53/53 [==============================] - 2280s 42s/step - loss: 0.6674 - accuracy: 0.7905 - val_loss: 0.5286 - val_accuracy: 0.7973\n",
            "Epoch 2/10\n",
            "53/53 [==============================] - 2171s 41s/step - loss: 0.4311 - accuracy: 0.8629 - val_loss: 0.3050 - val_accuracy: 0.8986\n",
            "Epoch 3/10\n",
            "53/53 [==============================] - 2164s 41s/step - loss: 0.2992 - accuracy: 0.8943 - val_loss: 0.3522 - val_accuracy: 0.8986\n",
            "Epoch 4/10\n",
            "53/53 [==============================] - 2159s 41s/step - loss: 0.2425 - accuracy: 0.9140 - val_loss: 0.3268 - val_accuracy: 0.8919\n",
            "Epoch 5/10\n",
            "53/53 [==============================] - 2174s 41s/step - loss: 0.2260 - accuracy: 0.9163 - val_loss: 0.2770 - val_accuracy: 0.9020\n",
            "Epoch 6/10\n",
            "53/53 [==============================] - 2168s 41s/step - loss: 0.2146 - accuracy: 0.9163 - val_loss: 0.2658 - val_accuracy: 0.9020\n",
            "Epoch 7/10\n",
            "53/53 [==============================] - 2215s 42s/step - loss: 0.2049 - accuracy: 0.9250 - val_loss: 0.2798 - val_accuracy: 0.8953\n",
            "Epoch 8/10\n",
            "53/53 [==============================] - 2218s 42s/step - loss: 0.1926 - accuracy: 0.9292 - val_loss: 0.2534 - val_accuracy: 0.9020\n",
            "Epoch 9/10\n",
            "53/53 [==============================] - 2174s 41s/step - loss: 0.1914 - accuracy: 0.9303 - val_loss: 0.2272 - val_accuracy: 0.9324\n",
            "Epoch 10/10\n",
            "53/53 [==============================] - 2211s 42s/step - loss: 0.1796 - accuracy: 0.9417 - val_loss: 0.2199 - val_accuracy: 0.9291\n"
          ]
        },
        {
          "name": "stderr",
          "output_type": "stream",
          "text": [
            "WARNING:absl:Found untraced functions such as _jit_compiled_convolution_op, _jit_compiled_convolution_op, _jit_compiled_convolution_op, _jit_compiled_convolution_op, _jit_compiled_convolution_op while saving (showing 5 of 170). These functions will not be directly callable after loading.\n"
          ]
        }
      ],
      "source": [
        "from keras.preprocessing.image import ImageDataGenerator\n",
        "from keras.applications.vgg16 import preprocess_input\n",
        "train_datagen = ImageDataGenerator(\n",
        "    preprocessing_function=preprocess_input,\n",
        "    rotation_range=40,\n",
        "    width_shift_range=0.2,\n",
        "    height_shift_range=0.2,\n",
        "    shear_range=0.2,\n",
        "    zoom_range=0.2,\n",
        "    horizontal_flip=True,\n",
        "    fill_mode='nearest')\n",
        "\n",
        "\n",
        "train_path='/content/drive/MyDrive/Thesis_database/GroceryStoreDataset-master_withVal/dataset/train'\n",
        "validation= '/content/drive/MyDrive/Thesis_database/GroceryStoreDataset-master_withVal/dataset/val'\n",
        "train_set = train_datagen.flow_from_directory(train_path,\n",
        "                                              target_size = (224, 224),\n",
        "                                              batch_size = 50,\n",
        "                                              class_mode = 'categorical')\n",
        "\n",
        "\n",
        "\n",
        "val_set = train_datagen.flow_from_directory(validation,\n",
        "                                            target_size = (224, 224),\n",
        "                                            batch_size = 50,\n",
        "                                            class_mode = 'categorical')\n",
        "\n",
        "\n",
        "ensemble_model5.compile(optimizer='adam',loss = 'categorical_crossentropy', metrics= ['accuracy'])\n",
        "ensemble_history5 = ensemble_model5.fit(\n",
        "    train_set,\n",
        "    epochs=10,\n",
        "    validation_data = val_set\n",
        ")\n",
        "\n",
        "ensemble_model5.save('/content/drive/MyDrive/Thesis_database/All_Models/ensemble_vggmob_resmob')"
      ]
    },
    {
      "cell_type": "code",
      "execution_count": null,
      "metadata": {
        "id": "821_qi9sFLrG"
      },
      "outputs": [],
      "source": [
        "ensemble_model5.save('/content/drive/MyDrive/Colab Notebooks/thesis 400/GroceryStore_Validation/ensemble_vggmob_resmob')"
      ]
    },
    {
      "cell_type": "code",
      "execution_count": null,
      "metadata": {
        "id": "rwABy_nbFMed"
      },
      "outputs": [],
      "source": [
        "from keras.models import load_model\n",
        "import math\n",
        "steps_per_epoch_test = math.ceil(len(test_set)/ 10)\n",
        "\n",
        "trained_model5 = load_model('/content/drive/MyDrive/Colab Notebooks/thesis 400/GroceryStore_Validation/ensemble_vggmob_resmob')\n",
        "score_combined5 = trained_model5.evaluate_generator(test_set, steps=steps_per_epoch_test)\n",
        "print('Accuracy of Combined Vgg-ResNET and ResNET-MobileNET: {}% \\n Error: {}'.format((score_combined5[1]*100), (1 - score_combined5[1])*100))"
      ]
    },
    {
      "cell_type": "code",
      "execution_count": null,
      "metadata": {
        "id": "zun3ttNUDPCi"
      },
      "outputs": [],
      "source": [
        "autotune = tf.data.AUTOTUNE\n",
        "train_ds = train_set.cache().shuffle(1000).prefetch(buffer_size = autotune)\n",
        "val_ds = val_set.cache().prefetch(buffer_size = autotune)"
      ]
    }
  ],
  "metadata": {
    "colab": {
      "collapsed_sections": [
        "_tBIyOTwWf4n"
      ],
      "provenance": []
    },
    "gpuClass": "standard",
    "kernelspec": {
      "display_name": "Python 3",
      "name": "python3"
    },
    "language_info": {
      "name": "python"
    }
  },
  "nbformat": 4,
  "nbformat_minor": 0
}